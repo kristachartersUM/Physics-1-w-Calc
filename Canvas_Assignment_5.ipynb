{
  "nbformat": 4,
  "nbformat_minor": 0,
  "metadata": {
    "colab": {
      "provenance": [],
      "authorship_tag": "ABX9TyNzscXK2zP0ghFUp9dUqKGs",
      "include_colab_link": true
    },
    "kernelspec": {
      "name": "python3",
      "display_name": "Python 3"
    },
    "language_info": {
      "name": "python"
    }
  },
  "cells": [
    {
      "cell_type": "markdown",
      "metadata": {
        "id": "view-in-github",
        "colab_type": "text"
      },
      "source": [
        "<a href=\"https://colab.research.google.com/github/kristachartersUM/Physics-1-w-Calc/blob/main/Canvas_Assignment_5.ipynb\" target=\"_parent\"><img src=\"https://colab.research.google.com/assets/colab-badge.svg\" alt=\"Open In Colab\"/></a>"
      ]
    },
    {
      "cell_type": "code",
      "execution_count": 21,
      "metadata": {
        "colab": {
          "base_uri": "https://localhost:8080/"
        },
        "id": "6qzL2OtsULzi",
        "outputId": "a3bd73de-dec6-44c1-be32-6c694b3817a5"
      },
      "outputs": [
        {
          "output_type": "stream",
          "name": "stdout",
          "text": [
            "The number of words of this text is: 308\n",
            "\n",
            "The main actions in this article are: ['embodies', 'take', '’s', 'living', 'trace', 'entered', '’s', 'says', 'occupies', 'restored', 'processed', 'come', 'walking', 'told', 'stepped', 'preserve', 'feels', 'living', 'know', 'made', 'examined', 'served', 'contained', 'seen', 'says', 'came', 'animate', 'displaying', 'loved', 'brought', 'quote', 'impelled', 'leave', 'was', 'awaited', 'says', 'fulfilled']\n",
            "\n",
            "The main nouns in this article are: ['pieces', 'land', 'harbor', 'icon', 'lady', 'immigrant', 'dream', 'icon', 'feet', 'reality', 'people', 'ancestry', 'men', 'women', 'children', 'country', 'superintendent', 'brick', 'building', 'immigrants', 'Tourists', 'families', 'footsteps', 'grandparents', 'land', 'U', 'S', 'building', 'museums', 'past', 'reach', 'memory', 'People', 'history', 'history', 'history', 'newcomers', 'day', 'officials', 'doctors', 'meals', 'foods', 'banana', 'bread', 'cake', 'man', 'voice', 'recollections', 'building', 'exhibits', 'possessions', 'immigrants', 'culture', 'clothes', 'linens', 'embroidery', 'ornaments', 'objects', 'instruments', 'faces', 'stare', 'photographs', 'men', 'women', 'cranny', 'world', 'captions', 'poverty', 'persecution', 'police', 'freedoms', 'promise']\n",
            "\n",
            "The main subject is Tourists, and the main action is says, and the main object is America.\n"
          ]
        }
      ],
      "source": [
        "#import spacy first & counter\n",
        "from collections import Counter\n",
        "import spacy\n",
        "\n",
        "#English language\n",
        "nlp = spacy.load(\"en_core_web_sm\")\n",
        "\n",
        "\n",
        "#load the text\n",
        "\n",
        "ellisisland_text = \"Of the two highly symbolic pieces of land in New York harbor, the more obvious icon is the Statue of Liberty; the lady embodies every immigrant’s dream of America. But I’ll take Ellis Island—that’s an icon with its feet in reality. Almost half the people now living in America can trace their ancestry to the 12 million men and women and children who entered the country there, mainly between 1892 and 1924. ‘It’s their Plymouth Rock,’ says M. Ann Belkov, superintendent of the National Park Service’s Immigration Museum, which occupies the distinctive red brick building, now handsomely restored, where the immigrants were processed. ‘Tourists who come here are walking in their families’ footsteps,’ Belkov told me. ‘Three of my four grandparents first stepped on land in the U.S.A. in this building.’ Unlike most museums, which preserve the dead past, Ellis Island feels almost alive, or at least within reach of living memory. People we all know made history–American history and their own history–in the vast Registry Room, where as many as 5,000 newcomers a day were examined by officials and doctors and were served meals that contained strange and wonderful foods. Many had never seen a banana. ‘The white bread was like cake already,’ says one old man who came from Russia, his voice typical of the many oral recollections that animate the building, along with exhibits displaying the much-loved possessions that the immigrants brought from their own culture: clothes and linens and embroidery, ornaments and religious objects and musical instruments. Strong faces stare out of innumerable photographs: men and women from every cranny of the world. The captions quote them eloquently on the poverty and persecution that impelled them to leave (‘always there was the police’) and on the unbelievable freedoms that awaited them here. One of them says, ‘It was as if God’s great promise had been fulfilled.’\"\n",
        "\n",
        "\n",
        "\n",
        "#word count\n",
        "\n",
        "def get_num_words(text):\n",
        "\n",
        "  doc = nlp(text)\n",
        "  #one token equals one count, sums to total, but only if the token is an alphabetical word\n",
        "  wordcount = sum(1 for token in doc if token.is_alpha)\n",
        "  return wordcount\n",
        "\n",
        "#test\n",
        "print(f\"The number of words of this text is: {get_num_words(doc)}\")\n",
        "\n",
        "\n",
        "#space\n",
        "print()\n",
        "\n",
        "#main verb for each sentence\n",
        "\n",
        "def get_main_verb(text):\n",
        "\n",
        "  verblist = []\n",
        "\n",
        "  doc = nlp(text)\n",
        "  sentences = ellisisland_text.split(\".\")\n",
        "  for i in sentences:\n",
        "    doc = nlp(i)\n",
        "\n",
        "    for token in doc:\n",
        "       if token.pos_ == \"VERB\":\n",
        "         verblist.append(token.text)\n",
        "  return verblist\n",
        "#test\n",
        "print(f\"The main actions in this article are: {get_main_verb(doc)}\")\n",
        "\n",
        "#space\n",
        "print()\n",
        "\n",
        "#main noun for each setence\n",
        "\n",
        "def get_main_noun(text):\n",
        "\n",
        "  nounlist = []\n",
        "\n",
        "  doc = nlp(text)\n",
        "  sentences = ellisisland_text.split(\".\")\n",
        "  for i in sentences:\n",
        "    doc = nlp(i)\n",
        "\n",
        "    for token in doc:\n",
        "      if token.pos_ == \"NOUN\":\n",
        "        nounlist.append(token.text)\n",
        "  return nounlist\n",
        "\n",
        "#test\n",
        "print(f\"The main nouns in this article are: {get_main_noun(doc)}\")\n",
        "\n",
        "#space\n",
        "print()\n",
        "\n",
        "#Main info\n",
        "\n",
        "def get_main_info(text):\n",
        "    doc = nlp(text)\n",
        "\n",
        "    subjectcounter = []\n",
        "    verbcounter = []\n",
        "    objectcounter = []\n",
        "\n",
        "    # Process tokens in the document\n",
        "    for token in doc:\n",
        "        if token.dep_ == \"nsubj\":\n",
        "          if token.pos_ == \"NOUN\":\n",
        "            if token.is_title:\n",
        "              subjectcounter.append(token.text)  # Use token.text for hashable strings\n",
        "        elif token.dep_ == \"ROOT\":\n",
        "          if token.pos_ == \"VERB\":\n",
        "            verbcounter.append(token.text)\n",
        "        elif token.dep_ in {\"dobj\", \"pobj\"}:\n",
        "          if token.is_title:\n",
        "            objectcounter.append(token.text)\n",
        "\n",
        "    # Count frequencies\n",
        "    countersubject = Counter(subjectcounter)\n",
        "    counterverb = Counter(verbcounter)\n",
        "    counterobject = Counter(objectcounter)\n",
        "\n",
        "    # Get most common elements\n",
        "    mostcommonsubject, countedsubjectamount = countersubject.most_common(1)[0] if countersubject else (\"None\", 0)\n",
        "    mostcommonverb, countedverbamount = counterverb.most_common(1)[0] if counterverb else (\"None\", 0)\n",
        "    mostcommonobject, countedobjectamount = counterobject.most_common(1)[0] if counterobject else (\"None\", 0)\n",
        "\n",
        "    print(f\"The main subject is {mostcommonsubject}, and the main action is {mostcommonverb}, and the main object is {mostcommonobject}.\")\n",
        "\n",
        "\n",
        "get_main_info(ellisisland_text)\n"
      ]
    },
    {
      "cell_type": "code",
      "source": [],
      "metadata": {
        "id": "SxJmIEPOexr9"
      },
      "execution_count": null,
      "outputs": []
    }
  ]
}